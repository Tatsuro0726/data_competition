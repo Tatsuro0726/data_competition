{
 "cells": [
  {
   "cell_type": "code",
   "execution_count": 21,
   "metadata": {},
   "outputs": [],
   "source": [
    "# Basic module\n",
    "import numpy as np\n",
    "import pandas as pd\n",
    "from matplotlib import pyplot as plt\n",
    "import pickle\n",
    "%matplotlib inline\n",
    "\n",
    "# Machine Learning module\n",
    "from sklearn.linear_model import LinearRegression\n",
    "from sklearn.linear_model import RidgeCV, LassoCV\n",
    "from sklearn.ensemble import RandomForestRegressor\n",
    "from sklearn.ensemble import AdaBoostRegressor\n",
    "from sklearn.tree import DecisionTreeRegressor\n",
    "\n",
    "# Model selection\n",
    "from sklearn.model_selection import GridSearchCV\n",
    "from sklearn.model_selection import train_test_split\n",
    "\n",
    "# Evaluation method\n",
    "from sklearn.metrics import mean_absolute_error, mean_squared_error"
   ]
  },
  {
   "cell_type": "code",
   "execution_count": 22,
   "metadata": {},
   "outputs": [],
   "source": [
    "# 前処理済みデータ(pickle)読み込み\n",
    "train = pd.read_pickle('../1. data/train_pre_proccessing.pkl')\n",
    "test = pd.read_pickle('../1. data/test_pre_proccessing.pkl')\n",
    "submit = pd.read_csv('../1. data/sample_submit.csv', header=None, names=['id','value'])"
   ]
  },
  {
   "cell_type": "code",
   "execution_count": 23,
   "metadata": {},
   "outputs": [
    {
     "data": {
      "text/html": [
       "<div>\n",
       "<style scoped>\n",
       "    .dataframe tbody tr th:only-of-type {\n",
       "        vertical-align: middle;\n",
       "    }\n",
       "\n",
       "    .dataframe tbody tr th {\n",
       "        vertical-align: top;\n",
       "    }\n",
       "\n",
       "    .dataframe thead th {\n",
       "        text-align: right;\n",
       "    }\n",
       "</style>\n",
       "<table border=\"1\" class=\"dataframe\">\n",
       "  <thead>\n",
       "    <tr style=\"text-align: right;\">\n",
       "      <th></th>\n",
       "      <th>mpg</th>\n",
       "      <th>cylinders_std</th>\n",
       "      <th>displacement_std</th>\n",
       "      <th>weight_std</th>\n",
       "      <th>acceleration_std</th>\n",
       "      <th>model year_std</th>\n",
       "      <th>origin_std</th>\n",
       "    </tr>\n",
       "  </thead>\n",
       "  <tbody>\n",
       "    <tr>\n",
       "      <td>0</td>\n",
       "      <td>23.059782</td>\n",
       "      <td>0.500031</td>\n",
       "      <td>-0.515790</td>\n",
       "      <td>0.133022</td>\n",
       "      <td>1.185170</td>\n",
       "      <td>0.939285</td>\n",
       "      <td>-0.553591</td>\n",
       "    </tr>\n",
       "    <tr>\n",
       "      <td>1</td>\n",
       "      <td>17.674521</td>\n",
       "      <td>1.737730</td>\n",
       "      <td>1.462149</td>\n",
       "      <td>2.423904</td>\n",
       "      <td>-0.790582</td>\n",
       "      <td>-1.109320</td>\n",
       "      <td>-0.553591</td>\n",
       "    </tr>\n",
       "    <tr>\n",
       "      <td>2</td>\n",
       "      <td>17.136353</td>\n",
       "      <td>1.737730</td>\n",
       "      <td>1.010049</td>\n",
       "      <td>0.075785</td>\n",
       "      <td>-0.925440</td>\n",
       "      <td>0.683210</td>\n",
       "      <td>-0.553591</td>\n",
       "    </tr>\n",
       "    <tr>\n",
       "      <td>3</td>\n",
       "      <td>22.664666</td>\n",
       "      <td>0.500031</td>\n",
       "      <td>1.933087</td>\n",
       "      <td>-0.739496</td>\n",
       "      <td>-0.046018</td>\n",
       "      <td>-1.365395</td>\n",
       "      <td>-0.553591</td>\n",
       "    </tr>\n",
       "    <tr>\n",
       "      <td>4</td>\n",
       "      <td>17.872018</td>\n",
       "      <td>1.737730</td>\n",
       "      <td>2.206231</td>\n",
       "      <td>-0.662714</td>\n",
       "      <td>-2.514097</td>\n",
       "      <td>-1.621471</td>\n",
       "      <td>-0.553591</td>\n",
       "    </tr>\n",
       "  </tbody>\n",
       "</table>\n",
       "</div>"
      ],
      "text/plain": [
       "         mpg  cylinders_std  displacement_std  weight_std  acceleration_std  \\\n",
       "0  23.059782       0.500031         -0.515790    0.133022          1.185170   \n",
       "1  17.674521       1.737730          1.462149    2.423904         -0.790582   \n",
       "2  17.136353       1.737730          1.010049    0.075785         -0.925440   \n",
       "3  22.664666       0.500031          1.933087   -0.739496         -0.046018   \n",
       "4  17.872018       1.737730          2.206231   -0.662714         -2.514097   \n",
       "\n",
       "   model year_std  origin_std  \n",
       "0        0.939285   -0.553591  \n",
       "1       -1.109320   -0.553591  \n",
       "2        0.683210   -0.553591  \n",
       "3       -1.365395   -0.553591  \n",
       "4       -1.621471   -0.553591  "
      ]
     },
     "execution_count": 23,
     "metadata": {},
     "output_type": "execute_result"
    }
   ],
   "source": [
    "# 確認\n",
    "train.head()"
   ]
  },
  {
   "cell_type": "code",
   "execution_count": 24,
   "metadata": {},
   "outputs": [
    {
     "data": {
      "text/html": [
       "<div>\n",
       "<style scoped>\n",
       "    .dataframe tbody tr th:only-of-type {\n",
       "        vertical-align: middle;\n",
       "    }\n",
       "\n",
       "    .dataframe tbody tr th {\n",
       "        vertical-align: top;\n",
       "    }\n",
       "\n",
       "    .dataframe thead th {\n",
       "        text-align: right;\n",
       "    }\n",
       "</style>\n",
       "<table border=\"1\" class=\"dataframe\">\n",
       "  <thead>\n",
       "    <tr style=\"text-align: right;\">\n",
       "      <th></th>\n",
       "      <th>cylinders_std</th>\n",
       "      <th>displacement_std</th>\n",
       "      <th>weight_std</th>\n",
       "      <th>acceleration_std</th>\n",
       "      <th>model year_std</th>\n",
       "      <th>origin_std</th>\n",
       "    </tr>\n",
       "  </thead>\n",
       "  <tbody>\n",
       "    <tr>\n",
       "      <td>0</td>\n",
       "      <td>-0.737669</td>\n",
       "      <td>-0.911378</td>\n",
       "      <td>-1.004741</td>\n",
       "      <td>-0.110913</td>\n",
       "      <td>1.195361</td>\n",
       "      <td>-0.553591</td>\n",
       "    </tr>\n",
       "    <tr>\n",
       "      <td>1</td>\n",
       "      <td>-0.737669</td>\n",
       "      <td>-0.920797</td>\n",
       "      <td>0.000399</td>\n",
       "      <td>0.017197</td>\n",
       "      <td>0.683210</td>\n",
       "      <td>-0.553591</td>\n",
       "    </tr>\n",
       "    <tr>\n",
       "      <td>2</td>\n",
       "      <td>-0.737669</td>\n",
       "      <td>-0.986728</td>\n",
       "      <td>0.121854</td>\n",
       "      <td>1.116183</td>\n",
       "      <td>0.171059</td>\n",
       "      <td>-0.553591</td>\n",
       "    </tr>\n",
       "    <tr>\n",
       "      <td>3</td>\n",
       "      <td>-0.737669</td>\n",
       "      <td>-0.515790</td>\n",
       "      <td>0.121854</td>\n",
       "      <td>-0.672902</td>\n",
       "      <td>1.451437</td>\n",
       "      <td>0.764483</td>\n",
       "    </tr>\n",
       "    <tr>\n",
       "      <td>4</td>\n",
       "      <td>-0.737669</td>\n",
       "      <td>-0.694747</td>\n",
       "      <td>0.489009</td>\n",
       "      <td>-0.713380</td>\n",
       "      <td>-0.853244</td>\n",
       "      <td>0.764483</td>\n",
       "    </tr>\n",
       "  </tbody>\n",
       "</table>\n",
       "</div>"
      ],
      "text/plain": [
       "   cylinders_std  displacement_std  weight_std  acceleration_std  \\\n",
       "0      -0.737669         -0.911378   -1.004741         -0.110913   \n",
       "1      -0.737669         -0.920797    0.000399          0.017197   \n",
       "2      -0.737669         -0.986728    0.121854          1.116183   \n",
       "3      -0.737669         -0.515790    0.121854         -0.672902   \n",
       "4      -0.737669         -0.694747    0.489009         -0.713380   \n",
       "\n",
       "   model year_std  origin_std  \n",
       "0        1.195361   -0.553591  \n",
       "1        0.683210   -0.553591  \n",
       "2        0.171059   -0.553591  \n",
       "3        1.451437    0.764483  \n",
       "4       -0.853244    0.764483  "
      ]
     },
     "execution_count": 24,
     "metadata": {},
     "output_type": "execute_result"
    }
   ],
   "source": [
    "test.head()"
   ]
  },
  {
   "cell_type": "code",
   "execution_count": 25,
   "metadata": {},
   "outputs": [
    {
     "data": {
      "text/html": [
       "<div>\n",
       "<style scoped>\n",
       "    .dataframe tbody tr th:only-of-type {\n",
       "        vertical-align: middle;\n",
       "    }\n",
       "\n",
       "    .dataframe tbody tr th {\n",
       "        vertical-align: top;\n",
       "    }\n",
       "\n",
       "    .dataframe thead th {\n",
       "        text-align: right;\n",
       "    }\n",
       "</style>\n",
       "<table border=\"1\" class=\"dataframe\">\n",
       "  <thead>\n",
       "    <tr style=\"text-align: right;\">\n",
       "      <th></th>\n",
       "      <th>id</th>\n",
       "      <th>value</th>\n",
       "    </tr>\n",
       "  </thead>\n",
       "  <tbody>\n",
       "    <tr>\n",
       "      <td>0</td>\n",
       "      <td>1</td>\n",
       "      <td>0.0</td>\n",
       "    </tr>\n",
       "    <tr>\n",
       "      <td>1</td>\n",
       "      <td>2</td>\n",
       "      <td>0.0</td>\n",
       "    </tr>\n",
       "    <tr>\n",
       "      <td>2</td>\n",
       "      <td>5</td>\n",
       "      <td>0.0</td>\n",
       "    </tr>\n",
       "    <tr>\n",
       "      <td>3</td>\n",
       "      <td>6</td>\n",
       "      <td>0.0</td>\n",
       "    </tr>\n",
       "    <tr>\n",
       "      <td>4</td>\n",
       "      <td>8</td>\n",
       "      <td>0.0</td>\n",
       "    </tr>\n",
       "    <tr>\n",
       "      <td>...</td>\n",
       "      <td>...</td>\n",
       "      <td>...</td>\n",
       "    </tr>\n",
       "    <tr>\n",
       "      <td>495</td>\n",
       "      <td>992</td>\n",
       "      <td>0.0</td>\n",
       "    </tr>\n",
       "    <tr>\n",
       "      <td>496</td>\n",
       "      <td>993</td>\n",
       "      <td>0.0</td>\n",
       "    </tr>\n",
       "    <tr>\n",
       "      <td>497</td>\n",
       "      <td>996</td>\n",
       "      <td>0.0</td>\n",
       "    </tr>\n",
       "    <tr>\n",
       "      <td>498</td>\n",
       "      <td>998</td>\n",
       "      <td>0.0</td>\n",
       "    </tr>\n",
       "    <tr>\n",
       "      <td>499</td>\n",
       "      <td>999</td>\n",
       "      <td>0.0</td>\n",
       "    </tr>\n",
       "  </tbody>\n",
       "</table>\n",
       "<p>500 rows × 2 columns</p>\n",
       "</div>"
      ],
      "text/plain": [
       "      id  value\n",
       "0      1    0.0\n",
       "1      2    0.0\n",
       "2      5    0.0\n",
       "3      6    0.0\n",
       "4      8    0.0\n",
       "..   ...    ...\n",
       "495  992    0.0\n",
       "496  993    0.0\n",
       "497  996    0.0\n",
       "498  998    0.0\n",
       "499  999    0.0\n",
       "\n",
       "[500 rows x 2 columns]"
      ]
     },
     "execution_count": 25,
     "metadata": {},
     "output_type": "execute_result"
    }
   ],
   "source": [
    "submit"
   ]
  },
  {
   "cell_type": "code",
   "execution_count": 26,
   "metadata": {},
   "outputs": [],
   "source": [
    "# データ作成\n",
    "X = train.drop('mpg', axis=1)\n",
    "y = train['mpg'].copy().values"
   ]
  },
  {
   "cell_type": "code",
   "execution_count": 27,
   "metadata": {},
   "outputs": [],
   "source": [
    "# データ分割\n",
    "train_X, test_X, train_y, test_y = train_test_split(X, y, test_size=0.2, shuffle=True)"
   ]
  },
  {
   "cell_type": "code",
   "execution_count": null,
   "metadata": {},
   "outputs": [],
   "source": []
  },
  {
   "cell_type": "markdown",
   "metadata": {},
   "source": [
    "-------------------------\n",
    "#### ■ モデル作成\n",
    "-------------------------"
   ]
  },
  {
   "cell_type": "code",
   "execution_count": 31,
   "metadata": {},
   "outputs": [
    {
     "name": "stdout",
     "output_type": "stream",
     "text": [
      "Mean_square_error(Linear):16.559\n",
      "Mean_square_error(Ridge):16.563\n"
     ]
    }
   ],
   "source": [
    "# 重回帰\n",
    "# インスタンス生成\n",
    "linear = LinearRegression(fit_intercept=True)\n",
    "ridge = RidgeCV(alphas=[1e-3, 1e-2, 1e-1, 1], cv=5)\n",
    "\n",
    "# 学習\n",
    "linear.fit(train_X, train_y)\n",
    "ridge.fit(train_X, train_y)\n",
    " \n",
    "# 予測\n",
    "y_pre_linear = linear.predict(test_X)\n",
    "y_pre_ridge = ridge.predict(test_X)\n",
    "\n",
    "# 評価\n",
    "# print('Mean_abs_error:{:.3f}'.format(mean_absolute_error(test_y, y_pre)))\n",
    "print('Mean_square_error(Linear):{:.3f}'.format(mean_squared_error(test_y, y_pre_linear)))\n",
    "print('Mean_square_error(Ridge):{:.3f}'.format(mean_squared_error(test_y, y_pre_ridge)))"
   ]
  },
  {
   "cell_type": "code",
   "execution_count": 9,
   "metadata": {},
   "outputs": [
    {
     "data": {
      "text/plain": [
       "<BarContainer object of 6 artists>"
      ]
     },
     "execution_count": 9,
     "metadata": {},
     "output_type": "execute_result"
    },
    {
     "data": {
      "image/png": "[encoded data removed]",
      "text/plain": [
       "<Figure size 432x288 with 1 Axes>"
      ]
     },
     "metadata": {
      "needs_background": "light"
     },
     "output_type": "display_data"
    }
   ],
   "source": [
    "# 各回帰係数確認\n",
    "columns = train_X.columns\n",
    "\n",
    "plt.barh(columns, abs(linear.coef_))"
   ]
  },
  {
   "cell_type": "code",
   "execution_count": 10,
   "metadata": {},
   "outputs": [
    {
     "name": "stdout",
     "output_type": "stream",
     "text": [
      "Mean_square_error:8.715\n"
     ]
    },
    {
     "name": "stderr",
     "output_type": "stream",
     "text": [
      "C:\\Users\\tatsu\\Anaconda3\\lib\\site-packages\\sklearn\\ensemble\\forest.py:245: FutureWarning: The default value of n_estimators will change from 10 in version 0.20 to 100 in 0.22.\n",
      "  \"10 in version 0.20 to 100 in 0.22.\", FutureWarning)\n"
     ]
    }
   ],
   "source": [
    "# RandomForest\n",
    "# インスタンス生成\n",
    "model = RandomForestRegressor()\n",
    "\n",
    "# 学習\n",
    "model.fit(train_X, train_y)\n",
    " \n",
    "# 予測\n",
    "y_pre = model.predict(test_X)\n",
    "\n",
    "# 評価\n",
    "# print('Mean_abs_error:{:.3f}'.format(mean_absolute_error(test_y, y_pre)))\n",
    "print('Mean_square_error:{:.3f}'.format(mean_squared_error(test_y, y_pre)))"
   ]
  },
  {
   "cell_type": "code",
   "execution_count": 11,
   "metadata": {},
   "outputs": [
    {
     "name": "stdout",
     "output_type": "stream",
     "text": [
      "Mean_square_error:12.003\n"
     ]
    }
   ],
   "source": [
    "# Adaboost\n",
    "# インスタンス生成\n",
    "model = AdaBoostRegressor(\n",
    "             base_estimator= DecisionTreeRegressor(),\n",
    "             n_estimators=100,\n",
    "             loss='linear'\n",
    ")\n",
    "\n",
    "# 学習\n",
    "model.fit(train_X, train_y)\n",
    " \n",
    "# 予測\n",
    "y_pre = model.predict(test_X)\n",
    "\n",
    "# 評価\n",
    "# print('Mean_abs_error:{:.3f}'.format(mean_absolute_error(test_y, y_pre)))\n",
    "print('Mean_square_error:{:.3f}'.format(mean_squared_error(test_y, y_pre)))"
   ]
  },
  {
   "cell_type": "code",
   "execution_count": null,
   "metadata": {},
   "outputs": [],
   "source": []
  },
  {
   "cell_type": "markdown",
   "metadata": {},
   "source": [
    "-----------------------------\n",
    "##### 提出用\n",
    "-----------------------------"
   ]
  },
  {
   "cell_type": "code",
   "execution_count": 12,
   "metadata": {},
   "outputs": [],
   "source": [
    "# RandomForestで提出\n",
    "regressor = RandomForestRegressor(\n",
    "        n_estimators=100,\n",
    "        criterion='mse'\n",
    ")\n",
    "\n",
    "# 学習\n",
    "regressor.fit(X,y)\n",
    "\n",
    "y_pre = regressor.predict(test)"
   ]
  },
  {
   "cell_type": "code",
   "execution_count": 13,
   "metadata": {},
   "outputs": [],
   "source": [
    "# 提出用データ作成\n",
    "submit['value'] = y_pre\n",
    "submit.to_csv('submit_20201111.csv',header=False, index=False)"
   ]
  },
  {
   "cell_type": "markdown",
   "metadata": {},
   "source": [
    "--------------------------\n",
    "##### ■ 特徴選択\n",
    "---------------------------"
   ]
  },
  {
   "cell_type": "code",
   "execution_count": 14,
   "metadata": {},
   "outputs": [],
   "source": [
    "# feature selection\n",
    "from sklearn.feature_selection import RFECV # wrapper method"
   ]
  },
  {
   "cell_type": "code",
   "execution_count": 15,
   "metadata": {},
   "outputs": [
    {
     "data": {
      "text/plain": [
       "RFECV(cv=5,\n",
       "      estimator=DecisionTreeRegressor(criterion='mse', max_depth=None,\n",
       "                                      max_features=None, max_leaf_nodes=None,\n",
       "                                      min_impurity_decrease=0.0,\n",
       "                                      min_impurity_split=None,\n",
       "                                      min_samples_leaf=1, min_samples_split=2,\n",
       "                                      min_weight_fraction_leaf=0.0,\n",
       "                                      presort=False, random_state=None,\n",
       "                                      splitter='best'),\n",
       "      min_features_to_select=1, n_jobs=None, scoring=None, step=1, verbose=0)"
      ]
     },
     "execution_count": 15,
     "metadata": {},
     "output_type": "execute_result"
    }
   ],
   "source": [
    "dt = DecisionTreeRegressor()\n",
    "select = RFECV(estimator=dt, cv=5)\n",
    "select.fit(train_X, train_y)"
   ]
  },
  {
   "cell_type": "code",
   "execution_count": 16,
   "metadata": {},
   "outputs": [
    {
     "data": {
      "text/plain": [
       "Index(['cylinders_std', 'displacement_std', 'acceleration_std',\n",
       "       'model year_std'],\n",
       "      dtype='object')"
      ]
     },
     "execution_count": 16,
     "metadata": {},
     "output_type": "execute_result"
    }
   ],
   "source": [
    "# 重要な特徴\n",
    "train_X.columns[select.support_]"
   ]
  },
  {
   "cell_type": "code",
   "execution_count": 17,
   "metadata": {
    "scrolled": true
   },
   "outputs": [
    {
     "data": {
      "text/html": [
       "<div>\n",
       "<style scoped>\n",
       "    .dataframe tbody tr th:only-of-type {\n",
       "        vertical-align: middle;\n",
       "    }\n",
       "\n",
       "    .dataframe tbody tr th {\n",
       "        vertical-align: top;\n",
       "    }\n",
       "\n",
       "    .dataframe thead th {\n",
       "        text-align: right;\n",
       "    }\n",
       "</style>\n",
       "<table border=\"1\" class=\"dataframe\">\n",
       "  <thead>\n",
       "    <tr style=\"text-align: right;\">\n",
       "      <th></th>\n",
       "      <th>cylinders_std</th>\n",
       "      <th>displacement_std</th>\n",
       "      <th>acceleration_std</th>\n",
       "      <th>model year_std</th>\n",
       "    </tr>\n",
       "  </thead>\n",
       "  <tbody>\n",
       "    <tr>\n",
       "      <td>329</td>\n",
       "      <td>-0.737669</td>\n",
       "      <td>-0.515790</td>\n",
       "      <td>-0.811356</td>\n",
       "      <td>-0.085017</td>\n",
       "    </tr>\n",
       "    <tr>\n",
       "      <td>172</td>\n",
       "      <td>-0.737669</td>\n",
       "      <td>-0.515790</td>\n",
       "      <td>1.130398</td>\n",
       "      <td>1.451437</td>\n",
       "    </tr>\n",
       "    <tr>\n",
       "      <td>323</td>\n",
       "      <td>-0.737669</td>\n",
       "      <td>-0.920797</td>\n",
       "      <td>-0.137692</td>\n",
       "      <td>1.195361</td>\n",
       "    </tr>\n",
       "    <tr>\n",
       "      <td>36</td>\n",
       "      <td>-0.737669</td>\n",
       "      <td>-0.911378</td>\n",
       "      <td>-0.083014</td>\n",
       "      <td>1.195361</td>\n",
       "    </tr>\n",
       "    <tr>\n",
       "      <td>16</td>\n",
       "      <td>-0.737669</td>\n",
       "      <td>-0.515790</td>\n",
       "      <td>1.763109</td>\n",
       "      <td>-0.085017</td>\n",
       "    </tr>\n",
       "    <tr>\n",
       "      <td>...</td>\n",
       "      <td>...</td>\n",
       "      <td>...</td>\n",
       "      <td>...</td>\n",
       "      <td>...</td>\n",
       "    </tr>\n",
       "    <tr>\n",
       "      <td>60</td>\n",
       "      <td>-0.737669</td>\n",
       "      <td>-0.920797</td>\n",
       "      <td>-0.824573</td>\n",
       "      <td>-1.621471</td>\n",
       "    </tr>\n",
       "    <tr>\n",
       "      <td>443</td>\n",
       "      <td>-0.737669</td>\n",
       "      <td>-0.920797</td>\n",
       "      <td>0.064739</td>\n",
       "      <td>1.451437</td>\n",
       "    </tr>\n",
       "    <tr>\n",
       "      <td>192</td>\n",
       "      <td>0.500031</td>\n",
       "      <td>-0.515790</td>\n",
       "      <td>1.313517</td>\n",
       "      <td>0.939285</td>\n",
       "    </tr>\n",
       "    <tr>\n",
       "      <td>490</td>\n",
       "      <td>0.500031</td>\n",
       "      <td>0.049335</td>\n",
       "      <td>0.845635</td>\n",
       "      <td>-0.853244</td>\n",
       "    </tr>\n",
       "    <tr>\n",
       "      <td>300</td>\n",
       "      <td>-0.737669</td>\n",
       "      <td>-0.845447</td>\n",
       "      <td>-0.092916</td>\n",
       "      <td>1.195361</td>\n",
       "    </tr>\n",
       "  </tbody>\n",
       "</table>\n",
       "<p>400 rows × 4 columns</p>\n",
       "</div>"
      ],
      "text/plain": [
       "     cylinders_std  displacement_std  acceleration_std  model year_std\n",
       "329      -0.737669         -0.515790         -0.811356       -0.085017\n",
       "172      -0.737669         -0.515790          1.130398        1.451437\n",
       "323      -0.737669         -0.920797         -0.137692        1.195361\n",
       "36       -0.737669         -0.911378         -0.083014        1.195361\n",
       "16       -0.737669         -0.515790          1.763109       -0.085017\n",
       "..             ...               ...               ...             ...\n",
       "60       -0.737669         -0.920797         -0.824573       -1.621471\n",
       "443      -0.737669         -0.920797          0.064739        1.451437\n",
       "192       0.500031         -0.515790          1.313517        0.939285\n",
       "490       0.500031          0.049335          0.845635       -0.853244\n",
       "300      -0.737669         -0.845447         -0.092916        1.195361\n",
       "\n",
       "[400 rows x 4 columns]"
      ]
     },
     "execution_count": 17,
     "metadata": {},
     "output_type": "execute_result"
    }
   ],
   "source": [
    "select_columns = train_X.columns[select.support_]\n",
    "train_X_selected = train_X[select_columns]\n",
    "train_X_selected"
   ]
  },
  {
   "cell_type": "code",
   "execution_count": 18,
   "metadata": {},
   "outputs": [
    {
     "data": {
      "text/html": [
       "<div>\n",
       "<style scoped>\n",
       "    .dataframe tbody tr th:only-of-type {\n",
       "        vertical-align: middle;\n",
       "    }\n",
       "\n",
       "    .dataframe tbody tr th {\n",
       "        vertical-align: top;\n",
       "    }\n",
       "\n",
       "    .dataframe thead th {\n",
       "        text-align: right;\n",
       "    }\n",
       "</style>\n",
       "<table border=\"1\" class=\"dataframe\">\n",
       "  <thead>\n",
       "    <tr style=\"text-align: right;\">\n",
       "      <th></th>\n",
       "      <th>cylinders_std</th>\n",
       "      <th>displacement_std</th>\n",
       "      <th>acceleration_std</th>\n",
       "      <th>model year_std</th>\n",
       "    </tr>\n",
       "  </thead>\n",
       "  <tbody>\n",
       "    <tr>\n",
       "      <td>119</td>\n",
       "      <td>-0.737669</td>\n",
       "      <td>0.350736</td>\n",
       "      <td>-0.907720</td>\n",
       "      <td>-1.365395</td>\n",
       "    </tr>\n",
       "    <tr>\n",
       "      <td>120</td>\n",
       "      <td>-0.737669</td>\n",
       "      <td>-0.515790</td>\n",
       "      <td>0.801740</td>\n",
       "      <td>-0.341093</td>\n",
       "    </tr>\n",
       "    <tr>\n",
       "      <td>394</td>\n",
       "      <td>-0.737669</td>\n",
       "      <td>-0.986728</td>\n",
       "      <td>1.105608</td>\n",
       "      <td>0.171059</td>\n",
       "    </tr>\n",
       "    <tr>\n",
       "      <td>29</td>\n",
       "      <td>0.500031</td>\n",
       "      <td>1.933087</td>\n",
       "      <td>-0.029840</td>\n",
       "      <td>-1.365395</td>\n",
       "    </tr>\n",
       "    <tr>\n",
       "      <td>427</td>\n",
       "      <td>-0.737669</td>\n",
       "      <td>-0.412184</td>\n",
       "      <td>0.013467</td>\n",
       "      <td>0.939285</td>\n",
       "    </tr>\n",
       "    <tr>\n",
       "      <td>...</td>\n",
       "      <td>...</td>\n",
       "      <td>...</td>\n",
       "      <td>...</td>\n",
       "      <td>...</td>\n",
       "    </tr>\n",
       "    <tr>\n",
       "      <td>350</td>\n",
       "      <td>-0.737669</td>\n",
       "      <td>-0.562884</td>\n",
       "      <td>0.005101</td>\n",
       "      <td>0.939285</td>\n",
       "    </tr>\n",
       "    <tr>\n",
       "      <td>76</td>\n",
       "      <td>0.500031</td>\n",
       "      <td>-0.515790</td>\n",
       "      <td>1.251766</td>\n",
       "      <td>0.939285</td>\n",
       "    </tr>\n",
       "    <tr>\n",
       "      <td>277</td>\n",
       "      <td>1.737730</td>\n",
       "      <td>0.341317</td>\n",
       "      <td>-0.014735</td>\n",
       "      <td>0.427134</td>\n",
       "    </tr>\n",
       "    <tr>\n",
       "      <td>196</td>\n",
       "      <td>0.500031</td>\n",
       "      <td>0.284804</td>\n",
       "      <td>0.784107</td>\n",
       "      <td>-0.085017</td>\n",
       "    </tr>\n",
       "    <tr>\n",
       "      <td>357</td>\n",
       "      <td>1.737730</td>\n",
       "      <td>1.010049</td>\n",
       "      <td>-0.929626</td>\n",
       "      <td>-0.853244</td>\n",
       "    </tr>\n",
       "  </tbody>\n",
       "</table>\n",
       "<p>100 rows × 4 columns</p>\n",
       "</div>"
      ],
      "text/plain": [
       "     cylinders_std  displacement_std  acceleration_std  model year_std\n",
       "119      -0.737669          0.350736         -0.907720       -1.365395\n",
       "120      -0.737669         -0.515790          0.801740       -0.341093\n",
       "394      -0.737669         -0.986728          1.105608        0.171059\n",
       "29        0.500031          1.933087         -0.029840       -1.365395\n",
       "427      -0.737669         -0.412184          0.013467        0.939285\n",
       "..             ...               ...               ...             ...\n",
       "350      -0.737669         -0.562884          0.005101        0.939285\n",
       "76        0.500031         -0.515790          1.251766        0.939285\n",
       "277       1.737730          0.341317         -0.014735        0.427134\n",
       "196       0.500031          0.284804          0.784107       -0.085017\n",
       "357       1.737730          1.010049         -0.929626       -0.853244\n",
       "\n",
       "[100 rows x 4 columns]"
      ]
     },
     "execution_count": 18,
     "metadata": {},
     "output_type": "execute_result"
    }
   ],
   "source": [
    "test_X_selected = test_X[select_columns]\n",
    "test_X_selected"
   ]
  },
  {
   "cell_type": "code",
   "execution_count": 19,
   "metadata": {},
   "outputs": [
    {
     "name": "stdout",
     "output_type": "stream",
     "text": [
      "Mean_square_error:10.521\n"
     ]
    }
   ],
   "source": [
    "# RandomForest\n",
    "regressor = RandomForestRegressor(\n",
    "    n_estimators=200, \n",
    "    criterion='mse')\n",
    "regressor.fit(train_X_selected, train_y)\n",
    "y_pre = regressor.predict(test_X_selected.values)\n",
    "print('Mean_square_error:{:.3f}'.format(mean_squared_error(test_y, y_pre)))"
   ]
  },
  {
   "cell_type": "code",
   "execution_count": 20,
   "metadata": {},
   "outputs": [],
   "source": [
    "# RandomForestで提出\n",
    "regressor = RandomForestRegressor(\n",
    "        n_estimators=100,\n",
    "        criterion='mse'\n",
    ")\n",
    "\n",
    "# 学習\n",
    "regressor.fit(X[select_columns],y)\n",
    "\n",
    "y_pre = regressor.predict(test[select_columns])\n",
    "\n",
    "# 提出用データ作成\n",
    "submit['value'] = y_pre\n",
    "submit.to_csv('submit_20201111_v2.csv',header=False, index=False)"
   ]
  },
  {
   "cell_type": "code",
   "execution_count": null,
   "metadata": {},
   "outputs": [],
   "source": []
  }
 ],
 "metadata": {
  "kernelspec": {
   "display_name": "Python 3.7.4 64-bit ('base': conda)",
   "language": "python",
   "name": "python37464bitbasecondaa456a6740d7e490db9ca4374186e9e5a"
  },
  "language_info": {
   "codemirror_mode": {
    "name": "ipython",
    "version": 3
   },
   "file_extension": ".py",
   "mimetype": "text/x-python",
   "name": "python",
   "nbconvert_exporter": "python",
   "pygments_lexer": "ipython3",
   "version": "3.7.4"
  }
 },
 "nbformat": 4,
 "nbformat_minor": 4
}
