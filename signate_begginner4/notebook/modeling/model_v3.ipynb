{
 "cells": [
  {
   "cell_type": "code",
   "execution_count": 1,
   "metadata": {},
   "outputs": [],
   "source": [
    "# Basic module\n",
    "import numpy as np\n",
    "import pandas as pd\n",
    "import seaborn as sns\n",
    "from matplotlib import pyplot as plt\n",
    "import pickle\n",
    "%matplotlib inline\n",
    "\n",
    "# Machine Learning module\n",
    "from sklearn.linear_model import LinearRegression\n",
    "from sklearn.linear_model import RidgeCV, LassoCV, Ridge\n",
    "from sklearn.ensemble import RandomForestRegressor\n",
    "from sklearn.ensemble import AdaBoostRegressor\n",
    "from sklearn.tree import DecisionTreeRegressor\n",
    "from sklearn.svm import SVR\n",
    "\n",
    "# Model selection\n",
    "from sklearn.model_selection import GridSearchCV\n",
    "from sklearn.model_selection import train_test_split\n",
    "\n",
    "# Feature selection\n",
    "from sklearn.feature_selection import RFE\n",
    "\n",
    "# Evaluation method\n",
    "from sklearn.metrics import mean_absolute_error, mean_squared_error"
   ]
  },
  {
   "cell_type": "code",
   "execution_count": 142,
   "metadata": {},
   "outputs": [],
   "source": [
    "# 前処理済みデータ(pickle)読み込み\n",
    "train = pd.read_pickle('../1. data/train_pre_proccessing_v2.pkl')\n",
    "test = pd.read_pickle('../1. data/test_pre_proccessing_v2.pkl')\n",
    "submit = pd.read_csv('../1. data/sample_submit.csv', header=None, names=['id','value'])"
   ]
  },
  {
   "cell_type": "code",
   "execution_count": 143,
   "metadata": {},
   "outputs": [
    {
     "data": {
      "text/plain": [
       "Index(['mpg', 'cylinders_std', 'displacement_std', 'horsepower_std',\n",
       "       'weight_std', 'acceleration_std', 'model year_70', 'model year_71',\n",
       "       'model year_72', 'model year_73', 'model year_74', 'model year_75',\n",
       "       'model year_76', 'model year_77', 'model year_78', 'model year_79',\n",
       "       'model year_80', 'model year_81', 'model year_82', 'origin_std',\n",
       "       'maker_amc', 'maker_datsun', 'maker_dodge', 'maker_ford', 'maker_gm',\n",
       "       'maker_honda', 'maker_others', 'maker_peugeot', 'maker_plymouth',\n",
       "       'maker_toyota', 'maker_volkswagen'],\n",
       "      dtype='object')"
      ]
     },
     "execution_count": 143,
     "metadata": {},
     "output_type": "execute_result"
    }
   ],
   "source": [
    "train.columns"
   ]
  },
  {
   "cell_type": "code",
   "execution_count": 144,
   "metadata": {},
   "outputs": [],
   "source": [
    "# データ作成\n",
    "X = train.drop(['mpg'], axis=1)\n",
    "y = train['mpg'].copy().values"
   ]
  },
  {
   "cell_type": "code",
   "execution_count": 145,
   "metadata": {},
   "outputs": [],
   "source": [
    "# データ分割\n",
    "train_X, test_X, train_y, test_y = train_test_split(X, y, \n",
    "                                                    test_size=0.2, \n",
    "                                                    shuffle=True\n",
    "                                                   )"
   ]
  },
  {
   "cell_type": "code",
   "execution_count": 146,
   "metadata": {},
   "outputs": [
    {
     "data": {
      "text/plain": [
       "30"
      ]
     },
     "execution_count": 146,
     "metadata": {},
     "output_type": "execute_result"
    }
   ],
   "source": [
    "len(X.columns)"
   ]
  },
  {
   "cell_type": "markdown",
   "metadata": {},
   "source": [
    "----------------------------------------------"
   ]
  },
  {
   "cell_type": "markdown",
   "metadata": {},
   "source": [
    "■ Xgboost"
   ]
  },
  {
   "cell_type": "code",
   "execution_count": 132,
   "metadata": {},
   "outputs": [
    {
     "name": "stdout",
     "output_type": "stream",
     "text": [
      "Parameter optimization\n",
      "Fitting 3 folds for each of 28 candidates, totalling 84 fits\n"
     ]
    },
    {
     "name": "stderr",
     "output_type": "stream",
     "text": [
      "C:\\Users\\tatsu\\Anaconda3\\lib\\site-packages\\sklearn\\model_selection\\_split.py:1978: FutureWarning: The default value of cv will change from 3 to 5 in version 0.22. Specify it explicitly to silence this warning.\n",
      "  warnings.warn(CV_WARNING, FutureWarning)\n",
      "[Parallel(n_jobs=1)]: Using backend SequentialBackend with 1 concurrent workers.\n"
     ]
    },
    {
     "name": "stdout",
     "output_type": "stream",
     "text": [
      "{'max_depth': 5, 'n_estimators': 40}\n"
     ]
    },
    {
     "name": "stderr",
     "output_type": "stream",
     "text": [
      "[Parallel(n_jobs=1)]: Done  84 out of  84 | elapsed:    4.5s finished\n"
     ]
    }
   ],
   "source": [
    "import xgboost as xgb\n",
    "from sklearn.model_selection import GridSearchCV\n",
    "\n",
    "print(\"Parameter optimization\")\n",
    "xgb_model = xgb.XGBRegressor()\n",
    "reg_xgb = GridSearchCV(xgb_model,\n",
    "                   {'max_depth': [3,4,5,6,7,8],\n",
    "                    'n_estimators': [40,50,60,70,80,90]}, verbose=1)\n",
    "reg_xgb.fit(X, y)\n",
    "print(reg_xgb.best_params_)"
   ]
  },
  {
   "cell_type": "code",
   "execution_count": 147,
   "metadata": {},
   "outputs": [
    {
     "name": "stderr",
     "output_type": "stream",
     "text": [
      "C:\\Users\\tatsu\\Anaconda3\\lib\\site-packages\\sklearn\\model_selection\\_split.py:1978: FutureWarning: The default value of cv will change from 3 to 5 in version 0.22. Specify it explicitly to silence this warning.\n",
      "  warnings.warn(CV_WARNING, FutureWarning)\n",
      "C:\\Users\\tatsu\\Anaconda3\\lib\\site-packages\\sklearn\\model_selection\\_search.py:814: DeprecationWarning: The default of the `iid` parameter will change from True to False in version 0.22 and will be removed in 0.24. This will change numeric results when test-set sizes are unequal.\n",
      "  DeprecationWarning)\n"
     ]
    },
    {
     "data": {
      "text/plain": [
       "GridSearchCV(cv='warn', error_score='raise-deprecating',\n",
       "             estimator=<keras.wrappers.scikit_learn.KerasRegressor object at 0x000001CDE1492CC8>,\n",
       "             iid='warn', n_jobs=-1,\n",
       "             param_grid={'batch_size': [10, 30, 50], 'epochs': [10, 50, 100],\n",
       "                         'optimizer': ['SGD', 'Adam']},\n",
       "             pre_dispatch='2*n_jobs', refit=True, return_train_score=False,\n",
       "             scoring=None, verbose=0)"
      ]
     },
     "execution_count": 147,
     "metadata": {},
     "output_type": "execute_result"
    }
   ],
   "source": [
    "from keras.models import Sequential\n",
    "from keras.layers import Dense\n",
    "from keras.wrappers.scikit_learn import KerasRegressor\n",
    "\n",
    "def create_model(optimizer='adam'):\n",
    "    model = Sequential()\n",
    "    model.add(Dense(30, input_dim=X.shape[1], kernel_initializer='normal', activation='sigmoid'))\n",
    "    model.add(Dense(30, kernel_initializer='normal', activation='relu'))\n",
    "    model.add(Dense(1, kernel_initializer='normal'))\n",
    "\n",
    "    model.compile(loss='mean_squared_error', optimizer=optimizer)\n",
    "    return model\n",
    "\n",
    "model = KerasRegressor(build_fn=create_model, verbose=0)\n",
    "# define the grid search parameters\n",
    "optimizer = ['SGD','Adam']\n",
    "batch_size = [10, 30, 50]\n",
    "epochs = [10, 50, 100]\n",
    "param_grid = dict(optimizer=optimizer, batch_size=batch_size, epochs=epochs)\n",
    "reg_dl = GridSearchCV(estimator=model, param_grid=param_grid, n_jobs=-1)\n",
    "reg_dl.fit(X, y)"
   ]
  },
  {
   "cell_type": "code",
   "execution_count": 148,
   "metadata": {},
   "outputs": [
    {
     "name": "stdout",
     "output_type": "stream",
     "text": [
      "{'C': 300, 'gamma': 0.03}\n"
     ]
    }
   ],
   "source": [
    "# SVR\n",
    "from sklearn.svm import SVR\n",
    "\n",
    "reg_svr = GridSearchCV(SVR(kernel='rbf'), \n",
    "                       cv=5,\n",
    "                       param_grid={\"C\": [300,400,500,600], \"gamma\": [0.01,0.02,0.03,0.04,0.05]}\n",
    "                      )\n",
    "reg_svr.fit(X, y)\n",
    "print(reg_svr.best_params_)"
   ]
  },
  {
   "cell_type": "code",
   "execution_count": 150,
   "metadata": {},
   "outputs": [
    {
     "name": "stderr",
     "output_type": "stream",
     "text": [
      "C:\\Users\\tatsu\\Anaconda3\\lib\\site-packages\\sklearn\\model_selection\\_split.py:1978: FutureWarning: The default value of cv will change from 3 to 5 in version 0.22. Specify it explicitly to silence this warning.\n",
      "  warnings.warn(CV_WARNING, FutureWarning)\n"
     ]
    },
    {
     "name": "stdout",
     "output_type": "stream",
     "text": [
      "{'max_depth': 15, 'min_samples_split': 5, 'n_estimators': 60}\n"
     ]
    }
   ],
   "source": [
    "# RandomForest\n",
    "reg_forest = GridSearchCV(\n",
    "                    RandomForestRegressor(),\n",
    "                    param_grid={'n_estimators': [60,70,80,90], 'min_samples_split':[4,5,6], 'max_depth': [8,9,10,15,20]}\n",
    ")\n",
    "reg_forest.fit(X, y)\n",
    "print(reg_forest.best_params_)"
   ]
  },
  {
   "cell_type": "code",
   "execution_count": 151,
   "metadata": {},
   "outputs": [
    {
     "data": {
      "text/html": [
       "<div>\n",
       "<style scoped>\n",
       "    .dataframe tbody tr th:only-of-type {\n",
       "        vertical-align: middle;\n",
       "    }\n",
       "\n",
       "    .dataframe tbody tr th {\n",
       "        vertical-align: top;\n",
       "    }\n",
       "\n",
       "    .dataframe thead th {\n",
       "        text-align: right;\n",
       "    }\n",
       "</style>\n",
       "<table border=\"1\" class=\"dataframe\">\n",
       "  <thead>\n",
       "    <tr style=\"text-align: right;\">\n",
       "      <th></th>\n",
       "      <th>XGB</th>\n",
       "      <th>DL</th>\n",
       "      <th>SVR</th>\n",
       "      <th>RDF</th>\n",
       "    </tr>\n",
       "  </thead>\n",
       "  <tbody>\n",
       "    <tr>\n",
       "      <td>0</td>\n",
       "      <td>23.035496</td>\n",
       "      <td>25.084976</td>\n",
       "      <td>23.260370</td>\n",
       "      <td>23.205022</td>\n",
       "    </tr>\n",
       "    <tr>\n",
       "      <td>1</td>\n",
       "      <td>17.488577</td>\n",
       "      <td>17.956390</td>\n",
       "      <td>17.324863</td>\n",
       "      <td>17.340254</td>\n",
       "    </tr>\n",
       "    <tr>\n",
       "      <td>2</td>\n",
       "      <td>17.611713</td>\n",
       "      <td>19.319284</td>\n",
       "      <td>16.967230</td>\n",
       "      <td>17.533286</td>\n",
       "    </tr>\n",
       "    <tr>\n",
       "      <td>3</td>\n",
       "      <td>23.067909</td>\n",
       "      <td>27.402966</td>\n",
       "      <td>22.565093</td>\n",
       "      <td>22.517691</td>\n",
       "    </tr>\n",
       "    <tr>\n",
       "      <td>4</td>\n",
       "      <td>17.564112</td>\n",
       "      <td>16.621805</td>\n",
       "      <td>17.277875</td>\n",
       "      <td>17.587750</td>\n",
       "    </tr>\n",
       "  </tbody>\n",
       "</table>\n",
       "</div>"
      ],
      "text/plain": [
       "         XGB         DL        SVR        RDF\n",
       "0  23.035496  25.084976  23.260370  23.205022\n",
       "1  17.488577  17.956390  17.324863  17.340254\n",
       "2  17.611713  19.319284  16.967230  17.533286\n",
       "3  23.067909  27.402966  22.565093  22.517691\n",
       "4  17.564112  16.621805  17.277875  17.587750"
      ]
     },
     "execution_count": 151,
     "metadata": {},
     "output_type": "execute_result"
    }
   ],
   "source": [
    "# second feature matrix\n",
    "X_train2 = pd.DataFrame( \n",
    "    {'XGB': reg_xgb.predict(X),\n",
    "     'DL': reg_dl.predict(X).ravel(),\n",
    "     'SVR': reg_svr.predict(X),\n",
    "     'RDF': reg_forest.predict(X)\n",
    "    }\n",
    ")\n",
    "X_train2.head()"
   ]
  },
  {
   "cell_type": "code",
   "execution_count": 152,
   "metadata": {},
   "outputs": [],
   "source": [
    "# second-feature modeling using linear regression\n",
    "from sklearn import linear_model\n",
    "\n",
    "reg = linear_model.LinearRegression()\n",
    "reg.fit(X_train2, y)\n",
    "\n",
    "# prediction using the test set\n",
    "X_test2 = pd.DataFrame( \n",
    "    {'XGB': reg_xgb.predict(test),\n",
    "     'DL': reg_dl.predict(test).ravel(),\n",
    "     'SVR': reg_svr.predict(test),\n",
    "     'RDF': reg_forest.predict(test)\n",
    "    }\n",
    ")\n",
    "\n",
    "y_pre = reg.predict(X_test2)"
   ]
  },
  {
   "cell_type": "code",
   "execution_count": 153,
   "metadata": {},
   "outputs": [],
   "source": [
    "# 提出用データ作成\n",
    "submit['value'] = y_pre\n",
    "submit.to_csv('submit_20201121_xgboost_v6.csv',header=False, index=False)"
   ]
  },
  {
   "cell_type": "code",
   "execution_count": null,
   "metadata": {},
   "outputs": [],
   "source": []
  },
  {
   "cell_type": "code",
   "execution_count": null,
   "metadata": {},
   "outputs": [],
   "source": []
  },
  {
   "cell_type": "code",
   "execution_count": null,
   "metadata": {},
   "outputs": [],
   "source": []
  },
  {
   "cell_type": "code",
   "execution_count": null,
   "metadata": {},
   "outputs": [],
   "source": []
  },
  {
   "cell_type": "code",
   "execution_count": null,
   "metadata": {},
   "outputs": [],
   "source": []
  }
 ],
 "metadata": {
  "kernelspec": {
   "display_name": "Python 3.7.4 64-bit ('base': conda)",
   "language": "python",
   "name": "python37464bitbasecondaa456a6740d7e490db9ca4374186e9e5a"
  },
  "language_info": {
   "codemirror_mode": {
    "name": "ipython",
    "version": 3
   },
   "file_extension": ".py",
   "mimetype": "text/x-python",
   "name": "python",
   "nbconvert_exporter": "python",
   "pygments_lexer": "ipython3",
   "version": "3.7.4"
  }
 },
 "nbformat": 4,
 "nbformat_minor": 4
}
